{
 "cells": [
  {
   "cell_type": "markdown",
   "metadata": {},
   "source": [
    "## Demonstration with Breast Cancer Wisconsin Data"
   ]
  },
  {
   "cell_type": "markdown",
   "metadata": {},
   "source": [
    "### Data Preparation"
   ]
  },
  {
   "cell_type": "code",
   "execution_count": 15,
   "metadata": {
    "collapsed": true
   },
   "outputs": [],
   "source": [
    "import pandas as pd\n",
    "import numpy as np"
   ]
  },
  {
   "cell_type": "code",
   "execution_count": 16,
   "metadata": {},
   "outputs": [],
   "source": [
    "df = pd.read_csv('https://archive.ics.uci.edu/ml/machine-learning-databases/breast-cancer-wisconsin/wdbc.data', header=None)"
   ]
  },
  {
   "cell_type": "code",
   "execution_count": 61,
   "metadata": {},
   "outputs": [
    {
     "data": {
      "text/plain": [
       "((569, 30),\n",
       " (569,),\n",
       " array([[  1.79900000e+01,   1.03800000e+01,   1.22800000e+02,\n",
       "           1.00100000e+03,   1.18400000e-01,   2.77600000e-01,\n",
       "           3.00100000e-01,   1.47100000e-01,   2.41900000e-01,\n",
       "           7.87100000e-02,   1.09500000e+00,   9.05300000e-01,\n",
       "           8.58900000e+00,   1.53400000e+02,   6.39900000e-03,\n",
       "           4.90400000e-02,   5.37300000e-02,   1.58700000e-02,\n",
       "           3.00300000e-02,   6.19300000e-03,   2.53800000e+01,\n",
       "           1.73300000e+01,   1.84600000e+02,   2.01900000e+03,\n",
       "           1.62200000e-01,   6.65600000e-01,   7.11900000e-01,\n",
       "           2.65400000e-01,   4.60100000e-01,   1.18900000e-01]]),\n",
       " array(['M', 'M', 'M', 'M', 'M', 'M', 'M', 'M', 'M', 'M', 'M', 'M', 'M',\n",
       "        'M', 'M', 'M', 'M', 'M', 'M', 'B', 'B', 'B', 'M', 'M', 'M', 'M',\n",
       "        'M', 'M', 'M', 'M'], dtype=object))"
      ]
     },
     "execution_count": 61,
     "metadata": {},
     "output_type": "execute_result"
    }
   ],
   "source": [
    "# Get the data and its  label from the dataframe\n",
    "x = df.loc[:, 2:].values\n",
    "_y = df.loc[:, 1].values\n",
    "# Peek the data\n",
    "x.shape, _y.shape, x[:1], _y[:30]"
   ]
  },
  {
   "cell_type": "code",
   "execution_count": 62,
   "metadata": {},
   "outputs": [
    {
     "data": {
      "text/plain": [
       "array([1, 1, 1, 1, 1, 1, 1, 1, 1, 1, 1, 1, 1, 1, 1, 1, 1, 1, 1, 0, 0, 0, 1,\n",
       "       1, 1, 1, 1, 1, 1, 1])"
      ]
     },
     "execution_count": 62,
     "metadata": {},
     "output_type": "execute_result"
    }
   ],
   "source": [
    "# Transform the training label\n",
    "# M (Malignant) = 1 and B (Benign) = 0\n",
    "y = np.zeros(_y.shape[0], dtype=int)\n",
    "y[_y=='M'] = 1\n",
    "y[:30]"
   ]
  },
  {
   "cell_type": "code",
   "execution_count": 65,
   "metadata": {},
   "outputs": [
    {
     "data": {
      "text/plain": [
       "((398, 30), (398,), (171, 30), (171,))"
      ]
     },
     "execution_count": 65,
     "metadata": {},
     "output_type": "execute_result"
    }
   ],
   "source": [
    "# Divide the data\n",
    "# Training 70%, Test 30%\n",
    "n = int(0.7 * x.shape[0])\n",
    "x_train, y_train = x[:n], y[:n]\n",
    "x_test, y_test = x[n:], y[n:]\n",
    "x_train.shape, y_train.shape, x_test.shape, y_test.shape"
   ]
  },
  {
   "cell_type": "markdown",
   "metadata": {},
   "source": [
    "### Logistic Regression at Play"
   ]
  },
  {
   "cell_type": "code",
   "execution_count": 66,
   "metadata": {
    "collapsed": true
   },
   "outputs": [],
   "source": [
    "from log_regression import LogisticRegression"
   ]
  },
  {
   "cell_type": "code",
   "execution_count": 67,
   "metadata": {},
   "outputs": [
    {
     "name": "stdout",
     "output_type": "stream",
     "text": [
      "Accuracy: 0.914572864322\n",
      "Confusion matrix: \n",
      " [[ 209.   16.]\n",
      " [  18.  155.]]\n"
     ]
    }
   ],
   "source": [
    "# Training with alpha = 0.01\n",
    "classifier = LogisticRegression()\n",
    "classifier.fit(x_train, y_train, 10000)\n",
    "acc, conf = classifier.evaluate(x_train, y_train, verbose=True)"
   ]
  },
  {
   "cell_type": "code",
   "execution_count": 68,
   "metadata": {},
   "outputs": [
    {
     "name": "stdout",
     "output_type": "stream",
     "text": [
      "Accuracy: 0.883040935673\n",
      "Confusion matrix: \n",
      " [[ 115.   17.]\n",
      " [   3.   36.]]\n"
     ]
    }
   ],
   "source": [
    "# See the score for test data\n",
    "acc, conf = classifier.evaluate(x_test, y_test, verbose=True)"
   ]
  }
 ],
 "metadata": {
  "kernelspec": {
   "display_name": "Python 2",
   "language": "python",
   "name": "python2"
  },
  "language_info": {
   "codemirror_mode": {
    "name": "ipython",
    "version": 2
   },
   "file_extension": ".py",
   "mimetype": "text/x-python",
   "name": "python",
   "nbconvert_exporter": "python",
   "pygments_lexer": "ipython2",
   "version": "2.7.12"
  }
 },
 "nbformat": 4,
 "nbformat_minor": 2
}
