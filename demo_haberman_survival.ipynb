{
 "cells": [
  {
   "cell_type": "markdown",
   "metadata": {},
   "source": [
    "## Demonstration with Haberman Survival Data"
   ]
  },
  {
   "cell_type": "markdown",
   "metadata": {},
   "source": [
    "### Data Preparation"
   ]
  },
  {
   "cell_type": "code",
   "execution_count": 1,
   "metadata": {
    "collapsed": true
   },
   "outputs": [],
   "source": [
    "import pandas as pd\n",
    "import numpy as np\n",
    "import matplotlib.pyplot as plt "
   ]
  },
  {
   "cell_type": "code",
   "execution_count": 2,
   "metadata": {
    "collapsed": true
   },
   "outputs": [],
   "source": [
    "df = pd.read_csv('https://archive.ics.uci.edu/ml/machine-learning-databases/haberman/haberman.data', header=None)"
   ]
  },
  {
   "cell_type": "code",
   "execution_count": 3,
   "metadata": {},
   "outputs": [
    {
     "data": {
      "text/plain": [
       "((306, 3),\n",
       " (306,),\n",
       " array([[30, 64,  1]]),\n",
       " array([1, 1, 1, 1, 1, 1, 1, 2, 2, 1, 1, 1, 1, 1, 1, 1, 1, 1, 1, 1, 1, 1, 1,\n",
       "        1, 2, 1, 1, 1, 1, 1]))"
      ]
     },
     "execution_count": 3,
     "metadata": {},
     "output_type": "execute_result"
    }
   ],
   "source": [
    "# Get the data and its  label from the dataframe\n",
    "x = df.loc[:, 0:2].values\n",
    "_y = df.loc[:, 3].values\n",
    "# Peek the data\n",
    "x.shape, _y.shape, x[:1], _y[:30]"
   ]
  },
  {
   "cell_type": "code",
   "execution_count": 4,
   "metadata": {},
   "outputs": [
    {
     "data": {
      "text/html": [
       "<div>\n",
       "<table border=\"1\" class=\"dataframe\">\n",
       "  <thead>\n",
       "    <tr style=\"text-align: right;\">\n",
       "      <th></th>\n",
       "      <th>0</th>\n",
       "      <th>1</th>\n",
       "      <th>2</th>\n",
       "    </tr>\n",
       "  </thead>\n",
       "  <tbody>\n",
       "    <tr>\n",
       "      <th>Min</th>\n",
       "      <td>30.000000</td>\n",
       "      <td>58.000000</td>\n",
       "      <td>0.000000</td>\n",
       "    </tr>\n",
       "    <tr>\n",
       "      <th>Max</th>\n",
       "      <td>83.000000</td>\n",
       "      <td>69.000000</td>\n",
       "      <td>52.000000</td>\n",
       "    </tr>\n",
       "    <tr>\n",
       "      <th>Mean</th>\n",
       "      <td>52.457516</td>\n",
       "      <td>62.852941</td>\n",
       "      <td>4.026144</td>\n",
       "    </tr>\n",
       "    <tr>\n",
       "      <th>Std</th>\n",
       "      <td>10.785785</td>\n",
       "      <td>3.244091</td>\n",
       "      <td>7.177896</td>\n",
       "    </tr>\n",
       "  </tbody>\n",
       "</table>\n",
       "</div>"
      ],
      "text/plain": [
       "              0          1          2\n",
       "Min   30.000000  58.000000   0.000000\n",
       "Max   83.000000  69.000000  52.000000\n",
       "Mean  52.457516  62.852941   4.026144\n",
       "Std   10.785785   3.244091   7.177896"
      ]
     },
     "execution_count": 4,
     "metadata": {},
     "output_type": "execute_result"
    }
   ],
   "source": [
    "# See stats all the features\n",
    "stats = np.vstack(( np.min(x, 0), np.max(x, 0), np.mean(x, 0), np.std(x, 0)))\n",
    "df_stats = pd.DataFrame(stats)\n",
    "df_stats.rename({0: \"Min\", 1: \"Max\", 2: \"Mean\", 3: \"Std\"})"
   ]
  },
  {
   "cell_type": "code",
   "execution_count": 5,
   "metadata": {},
   "outputs": [
    {
     "data": {
      "image/png": "[encoded data removed]",
      "text/plain": [
       "<matplotlib.figure.Figure at 0x7f762c966090>"
      ]
     },
     "metadata": {},
     "output_type": "display_data"
    }
   ],
   "source": [
    "# See the class distribution\n",
    "n_survived = len(np.where(_y == 1)[0])\n",
    "n_died = len(np.where(_y == 2)[0])\n",
    "classes = ('Survived (%s)' % (n_survived), 'Died (%s)' % (n_died))\n",
    "y_pos = np.arange(len(classes))\n",
    "plt.bar(y_pos, [n_survived, n_died], align='center', alpha=0.5)\n",
    "plt.xticks(y_pos, classes)\n",
    "plt.ylabel('Frequency')\n",
    "plt.title('Class Distribution')\n",
    "plt.show()"
   ]
  },
  {
   "cell_type": "markdown",
   "metadata": {},
   "source": [
    "### Data Transformation"
   ]
  },
  {
   "cell_type": "code",
   "execution_count": 6,
   "metadata": {},
   "outputs": [
    {
     "data": {
      "text/html": [
       "<div>\n",
       "<table border=\"1\" class=\"dataframe\">\n",
       "  <thead>\n",
       "    <tr style=\"text-align: right;\">\n",
       "      <th></th>\n",
       "      <th>0</th>\n",
       "      <th>1</th>\n",
       "      <th>2</th>\n",
       "    </tr>\n",
       "  </thead>\n",
       "  <tbody>\n",
       "    <tr>\n",
       "      <th>Min</th>\n",
       "      <td>-2.082140e+00</td>\n",
       "      <td>-1.495933e+00</td>\n",
       "      <td>-5.609086e-01</td>\n",
       "    </tr>\n",
       "    <tr>\n",
       "      <th>Max</th>\n",
       "      <td>2.831735e+00</td>\n",
       "      <td>1.894848e+00</td>\n",
       "      <td>6.683554e+00</td>\n",
       "    </tr>\n",
       "    <tr>\n",
       "      <th>Mean</th>\n",
       "      <td>1.393221e-16</td>\n",
       "      <td>3.889409e-16</td>\n",
       "      <td>2.612289e-17</td>\n",
       "    </tr>\n",
       "    <tr>\n",
       "      <th>Std</th>\n",
       "      <td>1.000000e+00</td>\n",
       "      <td>1.000000e+00</td>\n",
       "      <td>1.000000e+00</td>\n",
       "    </tr>\n",
       "  </tbody>\n",
       "</table>\n",
       "</div>"
      ],
      "text/plain": [
       "                 0             1             2\n",
       "Min  -2.082140e+00 -1.495933e+00 -5.609086e-01\n",
       "Max   2.831735e+00  1.894848e+00  6.683554e+00\n",
       "Mean  1.393221e-16  3.889409e-16  2.612289e-17\n",
       "Std   1.000000e+00  1.000000e+00  1.000000e+00"
      ]
     },
     "execution_count": 6,
     "metadata": {},
     "output_type": "execute_result"
    }
   ],
   "source": [
    "# Normalize x\n",
    "x = (x - np.mean(x, axis=0))/np.std(x, axis=0)\n",
    "# See stats all the features\n",
    "stats_normalized = np.vstack(( np.min(x, 0), np.max(x, 0), np.mean(x, 0), np.std(x, 0)))\n",
    "df_stats_normalized = pd.DataFrame(stats_normalized)\n",
    "df_stats_normalized.rename({0: \"Min\", 1: \"Max\", 2: \"Mean\", 3: \"Std\"})"
   ]
  },
  {
   "cell_type": "code",
   "execution_count": 7,
   "metadata": {},
   "outputs": [
    {
     "data": {
      "text/plain": [
       "array([1, 1, 1, 1, 1, 1, 1, 0, 0, 1, 1, 1, 1, 1, 1, 1, 1, 1, 1, 1, 1, 1, 1,\n",
       "       1, 0, 1, 1, 1, 1, 1])"
      ]
     },
     "execution_count": 7,
     "metadata": {},
     "output_type": "execute_result"
    }
   ],
   "source": [
    "# Transform the training label\n",
    "# 1 (the patient survived 5 years or longer)= 1, 2 (the patient died within 5 year) = 0\n",
    "y = np.zeros(_y.shape[0], dtype=int)\n",
    "y[_y==1] = 1\n",
    "y[:30]"
   ]
  },
  {
   "cell_type": "code",
   "execution_count": 8,
   "metadata": {},
   "outputs": [
    {
     "data": {
      "text/plain": [
       "((214, 3), (214,), (92, 3), (92,))"
      ]
     },
     "execution_count": 8,
     "metadata": {},
     "output_type": "execute_result"
    }
   ],
   "source": [
    "# Divide the data\n",
    "# Training 70%, Test 30%\n",
    "n = int(0.7 * x.shape[0])\n",
    "x_train, y_train = x[:n], y[:n]\n",
    "x_test, y_test = x[n:], y[n:]\n",
    "x_train.shape, y_train.shape, x_test.shape, y_test.shape"
   ]
  },
  {
   "cell_type": "markdown",
   "metadata": {},
   "source": [
    "### Logistic Regression at Play"
   ]
  },
  {
   "cell_type": "code",
   "execution_count": 9,
   "metadata": {
    "collapsed": true
   },
   "outputs": [],
   "source": [
    "from log_regression import LogisticRegression"
   ]
  },
  {
   "cell_type": "code",
   "execution_count": 10,
   "metadata": {},
   "outputs": [
    {
     "name": "stdout",
     "output_type": "stream",
     "text": [
      "Accuracy: 0.752336448598\n",
      "Confusion matrix: \n",
      " [[  10.   46.]\n",
      " [   7.  151.]]\n"
     ]
    }
   ],
   "source": [
    "# Training with alpha = 0.01\n",
    "classifier = LogisticRegression(alpha=0.01)\n",
    "classifier.fit(x_train, y_train, 10000)\n",
    "acc, conf = classifier.evaluate(x_train, y_train, verbose=True)"
   ]
  },
  {
   "cell_type": "code",
   "execution_count": 11,
   "metadata": {},
   "outputs": [
    {
     "name": "stdout",
     "output_type": "stream",
     "text": [
      "Accuracy: 0.782608695652\n",
      "Confusion matrix: \n",
      " [[  9.  16.]\n",
      " [  4.  63.]]\n"
     ]
    }
   ],
   "source": [
    "# See the score for test data\n",
    "acc, conf = classifier.evaluate(x_test, y_test, verbose=True)"
   ]
  },
  {
   "cell_type": "code",
   "execution_count": 12,
   "metadata": {},
   "outputs": [
    {
     "data": {
      "image/png": "[encoded data removed]",
      "text/plain": [
       "<matplotlib.figure.Figure at 0x7f762c6bfb50>"
      ]
     },
     "metadata": {},
     "output_type": "display_data"
    }
   ],
   "source": [
    "# See the cost log graph\n",
    "import matplotlib.pyplot as plt \n",
    "\n",
    "x = np.arange(len(classifier.cost_log)) + 1\n",
    "plt.plot(x, classifier.cost_log)\n",
    "plt.title('The cost in every epoch')\n",
    "plt.xlabel('Epoch')\n",
    "plt.ylabel('Cost')\n",
    "plt.show()"
   ]
  }
 ],
 "metadata": {
  "kernelspec": {
   "display_name": "Python 2",
   "language": "python",
   "name": "python2"
  },
  "language_info": {
   "codemirror_mode": {
    "name": "ipython",
    "version": 2
   },
   "file_extension": ".py",
   "mimetype": "text/x-python",
   "name": "python",
   "nbconvert_exporter": "python",
   "pygments_lexer": "ipython2",
   "version": "2.7.12"
  }
 },
 "nbformat": 4,
 "nbformat_minor": 1
}
