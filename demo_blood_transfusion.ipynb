{
 "cells": [
  {
   "cell_type": "markdown",
   "metadata": {},
   "source": [
    "## Demonstration with Blood Transfusion Data"
   ]
  },
  {
   "cell_type": "markdown",
   "metadata": {},
   "source": [
    "### Data Preparation"
   ]
  },
  {
   "cell_type": "code",
   "execution_count": 1,
   "metadata": {
    "collapsed": true
   },
   "outputs": [],
   "source": [
    "import pandas as pd\n",
    "import numpy as np\n",
    "import matplotlib.pyplot as plt "
   ]
  },
  {
   "cell_type": "code",
   "execution_count": 2,
   "metadata": {
    "collapsed": true
   },
   "outputs": [],
   "source": [
    "df = pd.read_csv('https://archive.ics.uci.edu/ml/machine-learning-databases/blood-transfusion/transfusion.data', header=None)"
   ]
  },
  {
   "cell_type": "code",
   "execution_count": 3,
   "metadata": {},
   "outputs": [
    {
     "data": {
      "text/plain": [
       "((748, 4),\n",
       " (748,),\n",
       " array([[    2,    50, 12500,    98]]),\n",
       " array([1, 1, 1, 1, 0, 0, 1, 0, 1, 1, 0, 0, 1, 0, 1, 1, 1, 1, 1, 1, 1, 0, 1,\n",
       "        1, 0, 0, 0, 1, 1, 0]))"
      ]
     },
     "execution_count": 3,
     "metadata": {},
     "output_type": "execute_result"
    }
   ],
   "source": [
    "# Get the data and its  label from the dataframe\n",
    "x = df.loc[1:, 0:3].values.astype(int)\n",
    "y = df.loc[1:, 4].values.astype(int)\n",
    "\n",
    "# Peek the data\n",
    "x.shape, y.shape, x[:1], y[:30]"
   ]
  },
  {
   "cell_type": "code",
   "execution_count": 4,
   "metadata": {},
   "outputs": [
    {
     "data": {
      "text/html": [
       "<div>\n",
       "<table border=\"1\" class=\"dataframe\">\n",
       "  <thead>\n",
       "    <tr style=\"text-align: right;\">\n",
       "      <th></th>\n",
       "      <th>0</th>\n",
       "      <th>1</th>\n",
       "      <th>2</th>\n",
       "      <th>3</th>\n",
       "    </tr>\n",
       "  </thead>\n",
       "  <tbody>\n",
       "    <tr>\n",
       "      <th>Min</th>\n",
       "      <td>0.000000</td>\n",
       "      <td>1.000000</td>\n",
       "      <td>250.000000</td>\n",
       "      <td>2.000000</td>\n",
       "    </tr>\n",
       "    <tr>\n",
       "      <th>Max</th>\n",
       "      <td>74.000000</td>\n",
       "      <td>50.000000</td>\n",
       "      <td>12500.000000</td>\n",
       "      <td>98.000000</td>\n",
       "    </tr>\n",
       "    <tr>\n",
       "      <th>Mean</th>\n",
       "      <td>9.506684</td>\n",
       "      <td>5.514706</td>\n",
       "      <td>1378.676471</td>\n",
       "      <td>34.282086</td>\n",
       "    </tr>\n",
       "    <tr>\n",
       "      <th>Std</th>\n",
       "      <td>8.089982</td>\n",
       "      <td>5.835403</td>\n",
       "      <td>1458.850634</td>\n",
       "      <td>24.360414</td>\n",
       "    </tr>\n",
       "  </tbody>\n",
       "</table>\n",
       "</div>"
      ],
      "text/plain": [
       "              0          1             2          3\n",
       "Min    0.000000   1.000000    250.000000   2.000000\n",
       "Max   74.000000  50.000000  12500.000000  98.000000\n",
       "Mean   9.506684   5.514706   1378.676471  34.282086\n",
       "Std    8.089982   5.835403   1458.850634  24.360414"
      ]
     },
     "execution_count": 4,
     "metadata": {},
     "output_type": "execute_result"
    }
   ],
   "source": [
    "# See stats all the features\n",
    "stats = np.vstack(( np.min(x, 0), np.max(x, 0), np.mean(x, 0), np.std(x, 0)))\n",
    "df_stats = pd.DataFrame(stats)\n",
    "df_stats.rename({0: \"Min\", 1: \"Max\", 2: \"Mean\", 3: \"Std\"})"
   ]
  },
  {
   "cell_type": "code",
   "execution_count": 5,
   "metadata": {},
   "outputs": [
    {
     "data": {
      "image/png": "[encoded data removed]",
      "text/plain": [
       "<matplotlib.figure.Figure at 0x7f8d351b4d10>"
      ]
     },
     "metadata": {},
     "output_type": "display_data"
    }
   ],
   "source": [
    "# See the class distribution\n",
    "n_yes = len(np.where(y == 1)[0])\n",
    "n_no = len(np.where(y == 0)[0])\n",
    "classes = ('Yes (%s)' % (n_yes), 'No (%s)' % (n_no))\n",
    "y_pos = np.arange(len(classes))\n",
    "plt.bar(y_pos, [n_yes, n_no], align='center', alpha=0.5)\n",
    "plt.xticks(y_pos, classes)\n",
    "plt.ylabel('Frequency')\n",
    "plt.title('Class Distribution - Donated blood in March 2007?')\n",
    "plt.show()"
   ]
  },
  {
   "cell_type": "markdown",
   "metadata": {},
   "source": [
    "### Data Transformation"
   ]
  },
  {
   "cell_type": "code",
   "execution_count": 6,
   "metadata": {},
   "outputs": [
    {
     "data": {
      "text/html": [
       "<div>\n",
       "<table border=\"1\" class=\"dataframe\">\n",
       "  <thead>\n",
       "    <tr style=\"text-align: right;\">\n",
       "      <th></th>\n",
       "      <th>0</th>\n",
       "      <th>1</th>\n",
       "      <th>2</th>\n",
       "      <th>3</th>\n",
       "    </tr>\n",
       "  </thead>\n",
       "  <tbody>\n",
       "    <tr>\n",
       "      <th>Min</th>\n",
       "      <td>-1.175118e+00</td>\n",
       "      <td>-7.736751e-01</td>\n",
       "      <td>-7.736751e-01</td>\n",
       "      <td>-1.325186e+00</td>\n",
       "    </tr>\n",
       "    <tr>\n",
       "      <th>Max</th>\n",
       "      <td>7.971997e+00</td>\n",
       "      <td>7.623346e+00</td>\n",
       "      <td>7.623346e+00</td>\n",
       "      <td>2.615633e+00</td>\n",
       "    </tr>\n",
       "    <tr>\n",
       "      <th>Mean</th>\n",
       "      <td>3.799694e-17</td>\n",
       "      <td>-1.899847e-17</td>\n",
       "      <td>-5.699541e-17</td>\n",
       "      <td>3.799694e-17</td>\n",
       "    </tr>\n",
       "    <tr>\n",
       "      <th>Std</th>\n",
       "      <td>1.000000e+00</td>\n",
       "      <td>1.000000e+00</td>\n",
       "      <td>1.000000e+00</td>\n",
       "      <td>1.000000e+00</td>\n",
       "    </tr>\n",
       "  </tbody>\n",
       "</table>\n",
       "</div>"
      ],
      "text/plain": [
       "                 0             1             2             3\n",
       "Min  -1.175118e+00 -7.736751e-01 -7.736751e-01 -1.325186e+00\n",
       "Max   7.971997e+00  7.623346e+00  7.623346e+00  2.615633e+00\n",
       "Mean  3.799694e-17 -1.899847e-17 -5.699541e-17  3.799694e-17\n",
       "Std   1.000000e+00  1.000000e+00  1.000000e+00  1.000000e+00"
      ]
     },
     "execution_count": 6,
     "metadata": {},
     "output_type": "execute_result"
    }
   ],
   "source": [
    "# Normalize x\n",
    "x = (x - np.mean(x, axis=0))/np.std(x, axis=0)\n",
    "# See stats all the features\n",
    "stats_normalized = np.vstack(( np.min(x, 0), np.max(x, 0), np.mean(x, 0), np.std(x, 0)))\n",
    "df_stats_normalized = pd.DataFrame(stats_normalized)\n",
    "df_stats_normalized.rename({0: \"Min\", 1: \"Max\", 2: \"Mean\", 3: \"Std\"})"
   ]
  },
  {
   "cell_type": "code",
   "execution_count": 7,
   "metadata": {},
   "outputs": [
    {
     "data": {
      "text/plain": [
       "((523, 4), (523,), (225, 4), (225,))"
      ]
     },
     "execution_count": 7,
     "metadata": {},
     "output_type": "execute_result"
    }
   ],
   "source": [
    "# Divide the data\n",
    "# Training 70%, Test 30%\n",
    "n = int(0.7 * x.shape[0])\n",
    "x_train, y_train = x[:n], y[:n]\n",
    "x_test, y_test = x[n:], y[n:]\n",
    "x_train.shape, y_train.shape, x_test.shape, y_test.shape"
   ]
  },
  {
   "cell_type": "markdown",
   "metadata": {},
   "source": [
    "### Logistic Regression at Play"
   ]
  },
  {
   "cell_type": "code",
   "execution_count": 8,
   "metadata": {
    "collapsed": true
   },
   "outputs": [],
   "source": [
    "from log_regression import LogisticRegression"
   ]
  },
  {
   "cell_type": "code",
   "execution_count": 9,
   "metadata": {},
   "outputs": [
    {
     "name": "stdout",
     "output_type": "stream",
     "text": [
      "Accuracy: 0.762906309751\n",
      "Confusion matrix: \n",
      " [[ 375.   13.]\n",
      " [ 111.   24.]]\n"
     ]
    }
   ],
   "source": [
    "# Training with alpha = 0.01\n",
    "classifier = LogisticRegression(alpha=0.01)\n",
    "classifier.fit(x_train, y_train, 10000)\n",
    "acc, conf = classifier.evaluate(x_train, y_train, verbose=True)"
   ]
  },
  {
   "cell_type": "code",
   "execution_count": 10,
   "metadata": {},
   "outputs": [
    {
     "name": "stdout",
     "output_type": "stream",
     "text": [
      "Accuracy: 0.804444444444\n",
      "Confusion matrix: \n",
      " [[ 181.    1.]\n",
      " [  43.    0.]]\n"
     ]
    }
   ],
   "source": [
    "# See the score for test data\n",
    "acc, conf = classifier.evaluate(x_test, y_test, verbose=True)"
   ]
  },
  {
   "cell_type": "code",
   "execution_count": 11,
   "metadata": {},
   "outputs": [
    {
     "data": {
      "image/png": "[encoded data removed]",
      "text/plain": [
       "<matplotlib.figure.Figure at 0x7f8d34f31850>"
      ]
     },
     "metadata": {},
     "output_type": "display_data"
    }
   ],
   "source": [
    "# See the cost log graph\n",
    "import matplotlib.pyplot as plt \n",
    "\n",
    "x = np.arange(len(classifier.cost_log)) + 1\n",
    "plt.plot(x, classifier.cost_log)\n",
    "plt.title('The cost in every epoch')\n",
    "plt.xlabel('Epoch')\n",
    "plt.ylabel('Cost')\n",
    "plt.show()"
   ]
  }
 ],
 "metadata": {
  "kernelspec": {
   "display_name": "Python 2",
   "language": "python",
   "name": "python2"
  },
  "language_info": {
   "codemirror_mode": {
    "name": "ipython",
    "version": 2
   },
   "file_extension": ".py",
   "mimetype": "text/x-python",
   "name": "python",
   "nbconvert_exporter": "python",
   "pygments_lexer": "ipython2",
   "version": "2.7.12"
  }
 },
 "nbformat": 4,
 "nbformat_minor": 1
}
